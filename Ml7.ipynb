{
  "nbformat": 4,
  "nbformat_minor": 0,
  "metadata": {
    "colab": {
      "provenance": [],
      "authorship_tag": "ABX9TyNLN5pS8FV6GQPLTQpOhSCz",
      "include_colab_link": true
    },
    "kernelspec": {
      "name": "python3",
      "display_name": "Python 3"
    },
    "language_info": {
      "name": "python"
    }
  },
  "cells": [
    {
      "cell_type": "markdown",
      "metadata": {
        "id": "view-in-github",
        "colab_type": "text"
      },
      "source": [
        "<a href=\"https://colab.research.google.com/github/Deepthi2510/hyperswitch/blob/main/Ml7.ipynb\" target=\"_parent\"><img src=\"https://colab.research.google.com/assets/colab-badge.svg\" alt=\"Open In Colab\"/></a>"
      ]
    },
    {
      "cell_type": "code",
      "execution_count": 2,
      "metadata": {
        "colab": {
          "base_uri": "https://localhost:8080/",
          "height": 1000
        },
        "id": "yEB_haDlaXm1",
        "outputId": "8dc1a6d8-20f4-4d41-bd3a-8e4ef877af20"
      },
      "outputs": [
        {
          "output_type": "error",
          "ename": "ImportError",
          "evalue": "\n`load_boston` has been removed from scikit-learn since version 1.2.\n\nThe Boston housing prices dataset has an ethical problem: as\ninvestigated in [1], the authors of this dataset engineered a\nnon-invertible variable \"B\" assuming that racial self-segregation had a\npositive impact on house prices [2]. Furthermore the goal of the\nresearch that led to the creation of this dataset was to study the\nimpact of air quality but it did not give adequate demonstration of the\nvalidity of this assumption.\n\nThe scikit-learn maintainers therefore strongly discourage the use of\nthis dataset unless the purpose of the code is to study and educate\nabout ethical issues in data science and machine learning.\n\nIn this special case, you can fetch the dataset from the original\nsource::\n\n    import pandas as pd\n    import numpy as np\n\n    data_url = \"http://lib.stat.cmu.edu/datasets/boston\"\n    raw_df = pd.read_csv(data_url, sep=\"\\s+\", skiprows=22, header=None)\n    data = np.hstack([raw_df.values[::2, :], raw_df.values[1::2, :2]])\n    target = raw_df.values[1::2, 2]\n\nAlternative datasets include the California housing dataset and the\nAmes housing dataset. You can load the datasets as follows::\n\n    from sklearn.datasets import fetch_california_housing\n    housing = fetch_california_housing()\n\nfor the California housing dataset and::\n\n    from sklearn.datasets import fetch_openml\n    housing = fetch_openml(name=\"house_prices\", as_frame=True)\n\nfor the Ames housing dataset.\n\n[1] M Carlisle.\n\"Racist data destruction?\"\n<https://medium.com/@docintangible/racist-data-destruction-113e3eff54a8>\n\n[2] Harrison Jr, David, and Daniel L. Rubinfeld.\n\"Hedonic housing prices and the demand for clean air.\"\nJournal of environmental economics and management 5.1 (1978): 81-102.\n<https://www.researchgate.net/publication/4974606_Hedonic_housing_prices_and_the_demand_for_clean_air>\n",
          "traceback": [
            "\u001b[0;31m---------------------------------------------------------------------------\u001b[0m",
            "\u001b[0;31mImportError\u001b[0m                               Traceback (most recent call last)",
            "\u001b[0;32m/tmp/ipython-input-3484516341.py\u001b[0m in \u001b[0;36m<cell line: 0>\u001b[0;34m()\u001b[0m\n\u001b[1;32m     18\u001b[0m \u001b[0;32mimport\u001b[0m \u001b[0mseaborn\u001b[0m \u001b[0;32mas\u001b[0m \u001b[0msns\u001b[0m\u001b[0;34m\u001b[0m\u001b[0;34m\u001b[0m\u001b[0m\n\u001b[1;32m     19\u001b[0m \u001b[0;32mimport\u001b[0m \u001b[0mmatplotlib\u001b[0m\u001b[0;34m.\u001b[0m\u001b[0mpyplot\u001b[0m \u001b[0;32mas\u001b[0m \u001b[0mplt\u001b[0m\u001b[0;34m\u001b[0m\u001b[0;34m\u001b[0m\u001b[0m\n\u001b[0;32m---> 20\u001b[0;31m \u001b[0;32mfrom\u001b[0m \u001b[0msklearn\u001b[0m\u001b[0;34m.\u001b[0m\u001b[0mdatasets\u001b[0m \u001b[0;32mimport\u001b[0m \u001b[0mload_boston\u001b[0m\u001b[0;34m\u001b[0m\u001b[0;34m\u001b[0m\u001b[0m\n\u001b[0m\u001b[1;32m     21\u001b[0m \u001b[0;31m# Load the dataset\u001b[0m\u001b[0;34m\u001b[0m\u001b[0;34m\u001b[0m\u001b[0m\n\u001b[1;32m     22\u001b[0m \u001b[0mboston\u001b[0m \u001b[0;34m=\u001b[0m \u001b[0mload_boston\u001b[0m\u001b[0;34m(\u001b[0m\u001b[0;34m)\u001b[0m\u001b[0;34m\u001b[0m\u001b[0;34m\u001b[0m\u001b[0m\n",
            "\u001b[0;32m/usr/local/lib/python3.12/dist-packages/sklearn/datasets/__init__.py\u001b[0m in \u001b[0;36m__getattr__\u001b[0;34m(name)\u001b[0m\n\u001b[1;32m    159\u001b[0m             \"\"\"\n\u001b[1;32m    160\u001b[0m         )\n\u001b[0;32m--> 161\u001b[0;31m         \u001b[0;32mraise\u001b[0m \u001b[0mImportError\u001b[0m\u001b[0;34m(\u001b[0m\u001b[0mmsg\u001b[0m\u001b[0;34m)\u001b[0m\u001b[0;34m\u001b[0m\u001b[0;34m\u001b[0m\u001b[0m\n\u001b[0m\u001b[1;32m    162\u001b[0m     \u001b[0;32mtry\u001b[0m\u001b[0;34m:\u001b[0m\u001b[0;34m\u001b[0m\u001b[0;34m\u001b[0m\u001b[0m\n\u001b[1;32m    163\u001b[0m         \u001b[0;32mreturn\u001b[0m \u001b[0mglobals\u001b[0m\u001b[0;34m(\u001b[0m\u001b[0;34m)\u001b[0m\u001b[0;34m[\u001b[0m\u001b[0mname\u001b[0m\u001b[0;34m]\u001b[0m\u001b[0;34m\u001b[0m\u001b[0;34m\u001b[0m\u001b[0m\n",
            "\u001b[0;31mImportError\u001b[0m: \n`load_boston` has been removed from scikit-learn since version 1.2.\n\nThe Boston housing prices dataset has an ethical problem: as\ninvestigated in [1], the authors of this dataset engineered a\nnon-invertible variable \"B\" assuming that racial self-segregation had a\npositive impact on house prices [2]. Furthermore the goal of the\nresearch that led to the creation of this dataset was to study the\nimpact of air quality but it did not give adequate demonstration of the\nvalidity of this assumption.\n\nThe scikit-learn maintainers therefore strongly discourage the use of\nthis dataset unless the purpose of the code is to study and educate\nabout ethical issues in data science and machine learning.\n\nIn this special case, you can fetch the dataset from the original\nsource::\n\n    import pandas as pd\n    import numpy as np\n\n    data_url = \"http://lib.stat.cmu.edu/datasets/boston\"\n    raw_df = pd.read_csv(data_url, sep=\"\\s+\", skiprows=22, header=None)\n    data = np.hstack([raw_df.values[::2, :], raw_df.values[1::2, :2]])\n    target = raw_df.values[1::2, 2]\n\nAlternative datasets include the California housing dataset and the\nAmes housing dataset. You can load the datasets as follows::\n\n    from sklearn.datasets import fetch_california_housing\n    housing = fetch_california_housing()\n\nfor the California housing dataset and::\n\n    from sklearn.datasets import fetch_openml\n    housing = fetch_openml(name=\"house_prices\", as_frame=True)\n\nfor the Ames housing dataset.\n\n[1] M Carlisle.\n\"Racist data destruction?\"\n<https://medium.com/@docintangible/racist-data-destruction-113e3eff54a8>\n\n[2] Harrison Jr, David, and Daniel L. Rubinfeld.\n\"Hedonic housing prices and the demand for clean air.\"\nJournal of environmental economics and management 5.1 (1978): 81-102.\n<https://www.researchgate.net/publication/4974606_Hedonic_housing_prices_and_the_demand_for_clean_air>\n",
            "",
            "\u001b[0;31m---------------------------------------------------------------------------\u001b[0;32m\nNOTE: If your import is failing due to a missing package, you can\nmanually install dependencies using either !pip or !apt.\n\nTo view examples of installing some common dependencies, click the\n\"Open Examples\" button below.\n\u001b[0;31m---------------------------------------------------------------------------\u001b[0m\n"
          ],
          "errorDetails": {
            "actions": [
              {
                "action": "open_url",
                "actionText": "Open Examples",
                "url": "/notebooks/snippets/importing_libraries.ipynb"
              }
            ]
          }
        }
      ],
      "source": [
        "# Build linear regression and multiple regression models to predict the price of the\n",
        "# house (Boston House Prices Dataset).\n",
        "# Download the Boston House Price Dataset from following link:\n",
        "# https://www.kaggle.com/datasets/vikrishnan/boston-house-prices/data\n",
        "# Save the dataset to use while building regression models to predict the price.\n",
        "# Methodology for Building Linear and Multiple Regression Models\n",
        "# 1. Understand the Problem\n",
        "# The goal is to predict house prices based on features using linear and multiple regression\n",
        "# models. Linear regression predicts a continuous target variable as a function of one or\n",
        "# more input features.\n",
        "# 2. Prepare the Environment\n",
        "# Ensure you have the necessary libraries installed:\n",
        "# pip install numpy pandas scikit-learn matplotlib seaborn\n",
        "# 3. Load and Explore the Data\n",
        "# Load the Boston House Prices dataset and perform exploratory data analysis (EDA).\n",
        "import pandas as pd\n",
        "import numpy as np\n",
        "import seaborn as sns\n",
        "import matplotlib.pyplot as plt\n",
        "from sklearn.datasets import load_boston\n",
        "# Load the dataset\n",
        "boston = load_boston()\n",
        "data = pd.DataFrame(boston.data, columns=boston.feature_names)\n",
        "data['PRICE'] = boston.target\n",
        "# Display basic information about the dataset\n",
        "print(data.info())\n",
        "# Show the first few rows\n",
        "print(data.head())\n",
        "# Summary statistics\n",
        "print(data.describe())\n",
        "# 4. Visualize Data Relationships\n",
        "# Explore the relationships between features and the target variable.\n",
        "# Plot the relationship between features and target\n",
        "sns.pairplot(data, x_vars=boston.feature_names, y_vars=['PRICE'], height=2.5)\n",
        "plt.show()\n",
        "# Correlation matrix\n",
        "plt.figure(figsize=(12, 8))\n",
        "sns.heatmap(data.corr(), annot=True, cmap='coolwarm', fmt='.2f')\n",
        "plt.title('Correlation Matrix')\n",
        "plt.show()\n",
        "# 5. Preprocess the Data\n",
        "# Prepare the dataset for modelling:\n",
        "# Handle Missing Values: Impute or remove missing values if necessary.\n",
        "# Feature Selection: Decide which features to include in the model.\n",
        "# Split the Data: Divide the dataset into features (X) and target (y), then split into training\n",
        "# and testing sets.\n",
        "from sklearn.model_selection import train_test_split\n",
        "# Define features and target\n",
        "X = data.drop('PRICE', axis=1)\n",
        "y = data['PRICE']\n",
        "# Split the dataset into training and test sets\n",
        "X_train, X_test, y_train, y_test = train_test_split(X, y, test_size=0.3, random_state=42)\n",
        "# 6. Build and Train Linear Regression Model\n",
        "# Linear regression predicts the target variable based on a single feature.\n",
        "from sklearn.linear_model import LinearRegression\n",
        "# Initialize the model\n",
        "linear_regressor = LinearRegression()\n",
        "# Train the model on the training data\n",
        "linear_regressor.fit(X_train[['RM']], y_train)  # 'RM' is an example feature\n",
        "# 7. Build and Train Multiple Regression Model\n",
        "# Multiple regression uses multiple features to predict the target variable.\n",
        "# Initialize the model\n",
        "multiple_regressor = LinearRegression()\n",
        "# Train the model on the training data\n",
        "multiple_regressor.fit(X_train, y_train)\n",
        "# 8. Make Predictions\n",
        "# Use the trained models to make predictions on the test set.\n",
        "# Predictions with Linear Regression (using 'RM' feature as an example)\n",
        "y_pred_linear = linear_regressor.predict(X_test[['RM']])\n",
        "# Predictions with Multiple Regression\n",
        "y_pred_multiple = multiple_regressor.predict(X_test)\n",
        "# 9. Evaluate the Models\n",
        "# Assess the performance of both models using appropriate metrics such as Mean Absolute\n",
        "# Error (MAE), Mean Squared Error (MSE), and R-squared score.\n",
        "from sklearn.metrics import mean_absolute_error, mean_squared_error, r2_score\n",
        "# Evaluate Linear Regression\n",
        "mae_linear = mean_absolute_error(y_test, y_pred_linear)\n",
        "mse_linear = mean_squared_error(y_test, y_pred_linear)\n",
        "r2_linear = r2_score(y_test, y_pred_linear)\n",
        "print(f'Linear Regression - MAE: {mae_linear}, MSE: {mse_linear}, R2: {r2_linear}')\n",
        "# Evaluate Multiple Regression\n",
        "mae_multiple = mean_absolute_error(y_test, y_pred_multiple)\n",
        "mse_multiple = mean_squared_error(y_test, y_pred_multiple)\n",
        "r2_multiple = r2_score(y_test, y_pred_multiple)\n",
        "print(f'Multiple Regression - MAE: {mae_multiple}, MSE: {mse_multiple}, R2:\\\n",
        "{r2_multiple}')\n",
        "# 10. Visualize Results\n",
        "# Visualize the predictions versus actual values to understand model performance.\n",
        "# Plot actual vs predicted values for Multiple Regression\n",
        "plt.figure(figsize=(10, 6))\n",
        "plt.scatter(y_test, y_pred_multiple, alpha=0.5, color='blue', label='Predicted')\n",
        "plt.plot([min(y_test), max(y_test)], [min(y_test), max(y_test)], color='red', linestyle='--', label='Ideal\\\n",
        "Line')\n",
        "plt.xlabel('Actual Prices')\n",
        "plt.ylabel('Predicted Prices')\n",
        "plt.title('Actual vs Predicted Prices (Multiple Regression)')\n",
        "plt.legend()\n",
        "plt.show()"
      ]
    },
    {
      "cell_type": "code",
      "source": [],
      "metadata": {
        "id": "M7GOK2a_aqPG"
      },
      "execution_count": null,
      "outputs": []
    }
  ]
}